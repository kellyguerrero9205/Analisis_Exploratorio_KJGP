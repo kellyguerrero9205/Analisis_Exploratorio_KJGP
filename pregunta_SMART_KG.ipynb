{
 "cells": [
  {
   "cell_type": "code",
   "execution_count": null,
   "id": "aa83ebd8",
   "metadata": {},
   "outputs": [],
   "source": [
    "# Problema para la organización\n",
    "\n",
    "Pérdidas financieras y sobrecostos en almacenamiento externo por generación de producto no conforme, \n",
    "el cual se puede reprocesar pero con una velocidad reducida. Estas no conformidades se genera por\n",
    "materias primas con desviaciones en sus parametros de calidad\n",
    "fallas en los equipos\n",
    "caracteristicas propias del microorganiasmo que interviene en el proceso\n",
    "\n",
    "# porqué puede ser resuelto con ciencia de datos o IA\n",
    "Porque a través del análisis de los datos fisicoquímicos de las materias primas,\n",
    "las novedades presentadas y reportadas de los equipos y\n",
    "las caracteristicas de cada cepa usada en el proceso, se pueden determinar los factores que inciden en la no conformidad\n",
    "y relacionarlos inclusive por el tipo de desviación, permitiendo tomar decisiones en las diferentes etapas del proceso\n",
    "para minimizarlas.\n",
    "\n",
    "La pregunta propuesta cumple con los parámetros para ser SMART ( Específica, medible, accionable, con temporalidad)\n",
    "S - Cantidad (Kg) de producto no conforme se genera por cada tipo de desviación de proceso\n",
    "M - Puedo medir los factores y los kg que genera cada uno\n",
    "A - Que caracteristicas afectan mas el proceso y como puedo mejorarlas (cambio de proveedor, cambio de equipos, mejoras al microorganismo)\n",
    "R - Esta generando impacto en el capital de trabajo, costos de producción, perdidas de inventario y costos de alamcenamiento\n",
    "T - Definidas en el perido de tiempo de mayor crecimiento del producto no conforme\n",
    "\n",
    "\n"
   ]
  }
 ],
 "metadata": {
  "kernelspec": {
   "display_name": "Python 3 (ipykernel)",
   "language": "python",
   "name": "python3"
  },
  "language_info": {
   "codemirror_mode": {
    "name": "ipython",
    "version": 3
   },
   "file_extension": ".py",
   "mimetype": "text/x-python",
   "name": "python",
   "nbconvert_exporter": "python",
   "pygments_lexer": "ipython3",
   "version": "3.11.7"
  }
 },
 "nbformat": 4,
 "nbformat_minor": 5
}
